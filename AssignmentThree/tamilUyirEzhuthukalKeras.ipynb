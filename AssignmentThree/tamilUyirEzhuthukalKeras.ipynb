{
  "nbformat": 4,
  "nbformat_minor": 0,
  "metadata": {
    "colab": {
      "name": "tamilUyirEzhuthukalKeras.ipynb",
      "provenance": [],
      "collapsed_sections": []
    },
    "kernelspec": {
      "name": "python3",
      "display_name": "Python 3"
    },
    "accelerator": "GPU"
  },
  "cells": [
    {
      "cell_type": "code",
      "metadata": {
        "id": "uASEFhKhH3Lg",
        "colab_type": "code",
        "colab": {}
      },
      "source": [
        "import os\n",
        "import cv2\n",
        "import numpy as np\n",
        "import matplotlib.pyplot as plt\n",
        "from PIL import Image\n",
        "import re\n",
        "import csv\n",
        "import pickle\n",
        "import keras\n",
        "from keras.models import Sequential\n",
        "from keras.layers import Dense\n",
        "from keras.utils import to_categorical\n",
        "from keras.layers import Dropout\n",
        "from keras.layers import Flatten\n",
        "from keras.layers.convolutional import Conv2D\n",
        "from keras.layers.convolutional import MaxPooling2D\n",
        "from keras.utils import np_utils\n",
        "from sklearn.model_selection import train_test_split\n",
        "from keras.preprocessing.image import ImageDataGenerator"
      ],
      "execution_count": null,
      "outputs": []
    },
    {
      "cell_type": "code",
      "metadata": {
        "id": "yzADjURGIms1",
        "colab_type": "code",
        "colab": {}
      },
      "source": [
        "w, h = 128, 128\n",
        "numCategory = 12\n",
        "filIm = open('/content/drive/My Drive/wkDir/image_uyir_128x128.obj', 'rb')\n",
        "images = pickle.load(filIm)\n",
        "filLab = open('/content/drive/My Drive/wkDir/label_uyir_128x128.obj', 'rb')\n",
        "labels = pickle.load(filLab)"
      ],
      "execution_count": null,
      "outputs": []
    },
    {
      "cell_type": "code",
      "metadata": {
        "id": "FLnOEeJlrhaj",
        "colab_type": "code",
        "colab": {}
      },
      "source": [
        "def plotIm(img_):\n",
        "  plt.imshow(img_, cmap='gray')\n",
        "  plt.show()"
      ],
      "execution_count": null,
      "outputs": []
    },
    {
      "cell_type": "code",
      "metadata": {
        "id": "ai0JBhaKsMbC",
        "colab_type": "code",
        "colab": {
          "base_uri": "https://localhost:8080/",
          "height": 54
        },
        "outputId": "a92e1b1d-83a1-47a4-e700-2005ad446e1a"
      },
      "source": [
        "tamilCharacterCode = []\n",
        "w,h=128,128\n",
        "with open('/content/drive/My Drive/wkDir/unicodeTamil.csv', newline='') as f:\n",
        "  reader = csv.reader(f)\n",
        "  data = list(reader)\n",
        "  for i in data:\n",
        "    go = i[1].split(' ')\n",
        "    charL = \"\"\n",
        "    for gg in go:\n",
        "      charL = charL + \"\\\\u\"+str(gg)\n",
        "    tamilCharacterCode.append(charL.encode('utf-8').decode('unicode-escape'))\n",
        "print(tamilCharacterCode)"
      ],
      "execution_count": null,
      "outputs": [
        {
          "output_type": "stream",
          "text": [
            "['அ', 'ஆ', 'இ', 'ஈ', 'உ', 'ஊ', 'எ', 'ஏ', 'ஐ', 'ஒ', 'ஓ', 'ஃ', 'க', 'ங', 'ச', 'ஞ', 'ட', 'ண', 'த', 'ந', 'ப', 'ம', 'ய', 'ர', 'ல', 'வ', 'ழ', 'ள', 'ற', 'ன', 'ஸ', 'ஷ', 'ஜ', 'ஹ', 'க்ஷ', 'கி', 'ஙி', 'சி', 'ஞி', 'டி', 'ணி', 'தி', 'நி', 'பி', 'மி', 'யி', 'ரி', 'லி', 'வி', 'ழி', 'ளி', 'றி', 'னி', 'ஸி', 'ஷி', 'ஜி', 'ஹி', 'க்ஷி', 'கீ', 'ஙீ', 'சீ', 'ஞீ', 'டீ', 'ணீ', 'தீ', 'நீ', 'பீ', 'மீ', 'யீ', 'ரீ', 'லீ', 'வீ', 'ழீ', 'ளீ', 'றீ', 'னீ', 'ஸீ', 'ஷீ', 'ஜீ', 'ஹீ', 'க்ஷீ', 'கு', 'ஙு', 'சு', 'ஞு', 'டு', 'ணு', 'து', 'நு', 'பு', 'மு', 'யு', 'ரு', 'லு', 'வு', 'ழு', 'ளு', 'று', 'னு', 'கூ', 'ஙூ', 'சூ', 'ஞூ', 'டூ', 'ணூ', 'தூ', 'நூ', 'பூ', 'மூ', 'யூ', 'ரூ', 'லூ', 'வூ', 'ழூ', 'ளூ', 'றூ', 'னூ', 'ா', 'ெ', 'ே', 'ை', 'ஸ்ரீ', 'ஸு', 'ஷு', 'ஜு', 'ஹு', 'க்ஷு', 'ஸூ', 'ஷூ', 'ஜ0BC2', 'ஹூ', 'க்ஷூ', 'க்', 'ங்', 'ச்', 'ஞ்', 'ட்', 'ண்', 'த்', 'ந்', 'ப்', 'ம்', 'ய்', 'ர்', 'ல்', 'வ்', 'ழ்', 'ள்', 'ற்', 'ன்', 'ஸ்', 'ஷ்', 'ஜ்', 'ஹ்', 'க்ஷ்', 'ஔ']\n"
          ],
          "name": "stdout"
        }
      ]
    },
    {
      "cell_type": "code",
      "metadata": {
        "id": "AZBs1aARtSXJ",
        "colab_type": "code",
        "colab": {
          "base_uri": "https://localhost:8080/",
          "height": 34
        },
        "outputId": "c1eddc5c-3dd2-432b-bdb3-68eb6c6fa2a6"
      },
      "source": [
        "images=np.array(images)\n",
        "labels=np.array(labels,dtype=np.uint8)\n",
        "y_labels=to_categorical(labels)\n",
        "X_train, X_test, y_train, y_test = train_test_split(images, y_labels, test_size=0.33, random_state=42)\n",
        "keras.initializers.lecun_uniform(seed=None)\n",
        "print(X_train.shape, y_train.shape)"
      ],
      "execution_count": null,
      "outputs": [
        {
          "output_type": "stream",
          "text": [
            "(4454, 128, 128, 1) (4454, 12)\n"
          ],
          "name": "stdout"
        }
      ]
    },
    {
      "cell_type": "code",
      "metadata": {
        "id": "MZgbkYsAtXqL",
        "colab_type": "code",
        "colab": {
          "base_uri": "https://localhost:8080/",
          "height": 285
        },
        "outputId": "893cbb51-fd88-4390-8e4d-afe4f67703f6"
      },
      "source": [
        "ridx = np.random.randint(X_train.shape[0])\n",
        "print(tamilCharacterCode[np.argmax(y_train[ridx])])\n",
        "plotIm(X_train[ridx].reshape(w,h))"
      ],
      "execution_count": null,
      "outputs": [
        {
          "output_type": "stream",
          "text": [
            "ஓ\n"
          ],
          "name": "stdout"
        },
        {
          "output_type": "display_data",
          "data": {
            "image/png": "[encoded data removed]",
            "text/plain": [
              "<Figure size 432x288 with 1 Axes>"
            ]
          },
          "metadata": {
            "tags": [],
            "needs_background": "light"
          }
        }
      ]
    },
    {
      "cell_type": "code",
      "metadata": {
        "id": "OT37DGjltbAo",
        "colab_type": "code",
        "colab": {
          "base_uri": "https://localhost:8080/",
          "height": 642
        },
        "outputId": "fb8e6dbb-75eb-482a-9937-1f222911e91d"
      },
      "source": [
        "model = Sequential()\n",
        "model.add(Conv2D(64, (5, 5), input_shape=(w,h,1), activation='relu'))\n",
        "model.add(MaxPooling2D(pool_size=(2, 2)))\n",
        "model.add(Dropout(0.2))\n",
        "model.add(Conv2D(32, (5, 5), activation='relu'))\n",
        "model.add(MaxPooling2D(pool_size=(2, 2)))\n",
        "model.add(Conv2D(32, (5, 5), activation='relu'))\n",
        "model.add(MaxPooling2D(pool_size=(2, 2)))\n",
        "model.add(Dropout(0.2))\n",
        "model.add(Conv2D(32, (5, 5), activation='relu'))\n",
        "model.add(MaxPooling2D(pool_size=(2, 2)))\n",
        "model.add(Dropout(0.2))\n",
        "model.add(Flatten())\n",
        "model.add(Dense(256, activation='relu'))\n",
        "model.add(Dense(numCategory, activation='softmax'))\n",
        "model.summary()\n",
        "model.compile(loss='categorical_crossentropy', optimizer='adam', metrics=['accuracy'])"
      ],
      "execution_count": null,
      "outputs": [
        {
          "output_type": "stream",
          "text": [
            "Model: \"sequential_1\"\n",
            "_________________________________________________________________\n",
            "Layer (type)                 Output Shape              Param #   \n",
            "=================================================================\n",
            "conv2d_4 (Conv2D)            (None, 124, 124, 64)      1664      \n",
            "_________________________________________________________________\n",
            "max_pooling2d_4 (MaxPooling2 (None, 62, 62, 64)        0         \n",
            "_________________________________________________________________\n",
            "dropout_3 (Dropout)          (None, 62, 62, 64)        0         \n",
            "_________________________________________________________________\n",
            "conv2d_5 (Conv2D)            (None, 58, 58, 32)        51232     \n",
            "_________________________________________________________________\n",
            "max_pooling2d_5 (MaxPooling2 (None, 29, 29, 32)        0         \n",
            "_________________________________________________________________\n",
            "conv2d_6 (Conv2D)            (None, 25, 25, 32)        25632     \n",
            "_________________________________________________________________\n",
            "max_pooling2d_6 (MaxPooling2 (None, 12, 12, 32)        0         \n",
            "_________________________________________________________________\n",
            "dropout_4 (Dropout)          (None, 12, 12, 32)        0         \n",
            "_________________________________________________________________\n",
            "conv2d_7 (Conv2D)            (None, 8, 8, 32)          25632     \n",
            "_________________________________________________________________\n",
            "max_pooling2d_7 (MaxPooling2 (None, 4, 4, 32)          0         \n",
            "_________________________________________________________________\n",
            "dropout_5 (Dropout)          (None, 4, 4, 32)          0         \n",
            "_________________________________________________________________\n",
            "flatten_1 (Flatten)          (None, 512)               0         \n",
            "_________________________________________________________________\n",
            "dense_2 (Dense)              (None, 256)               131328    \n",
            "_________________________________________________________________\n",
            "dense_3 (Dense)              (None, 12)                3084      \n",
            "=================================================================\n",
            "Total params: 238,572\n",
            "Trainable params: 238,572\n",
            "Non-trainable params: 0\n",
            "_________________________________________________________________\n"
          ],
          "name": "stdout"
        }
      ]
    },
    {
      "cell_type": "code",
      "metadata": {
        "id": "E8DloLPDt0_n",
        "colab_type": "code",
        "colab": {
          "base_uri": "https://localhost:8080/",
          "height": 399
        },
        "outputId": "8a03d6d1-bc4a-4dad-b714-7fc008cb611d"
      },
      "source": [
        "model.fit(X_train, y_train, validation_data=(X_test, y_test), epochs=10, batch_size=100, verbose=1)\n",
        "TrainAccuracy = model.evaluate(X_train, y_train, verbose=1)\n",
        "TestAccuracy = model.evaluate(X_test, y_test, verbose=1)"
      ],
      "execution_count": null,
      "outputs": [
        {
          "output_type": "stream",
          "text": [
            "Epoch 1/10\n",
            "45/45 [==============================] - 4s 79ms/step - loss: 1.7387 - accuracy: 0.4001 - val_loss: 0.6861 - val_accuracy: 0.7763\n",
            "Epoch 2/10\n",
            "45/45 [==============================] - 3s 74ms/step - loss: 0.5454 - accuracy: 0.8240 - val_loss: 0.4191 - val_accuracy: 0.8665\n",
            "Epoch 3/10\n",
            "45/45 [==============================] - 3s 75ms/step - loss: 0.3138 - accuracy: 0.8952 - val_loss: 0.2388 - val_accuracy: 0.9198\n",
            "Epoch 4/10\n",
            "45/45 [==============================] - 3s 74ms/step - loss: 0.2158 - accuracy: 0.9286 - val_loss: 0.2023 - val_accuracy: 0.9326\n",
            "Epoch 5/10\n",
            "45/45 [==============================] - 3s 75ms/step - loss: 0.1840 - accuracy: 0.9398 - val_loss: 0.1944 - val_accuracy: 0.9399\n",
            "Epoch 6/10\n",
            "45/45 [==============================] - 3s 74ms/step - loss: 0.1324 - accuracy: 0.9551 - val_loss: 0.1597 - val_accuracy: 0.9476\n",
            "Epoch 7/10\n",
            "45/45 [==============================] - 3s 75ms/step - loss: 0.1158 - accuracy: 0.9600 - val_loss: 0.1399 - val_accuracy: 0.9572\n",
            "Epoch 8/10\n",
            "45/45 [==============================] - 3s 75ms/step - loss: 0.0981 - accuracy: 0.9650 - val_loss: 0.1484 - val_accuracy: 0.9558\n",
            "Epoch 9/10\n",
            "45/45 [==============================] - 3s 75ms/step - loss: 0.0869 - accuracy: 0.9690 - val_loss: 0.1304 - val_accuracy: 0.9581\n",
            "Epoch 10/10\n",
            "45/45 [==============================] - 3s 75ms/step - loss: 0.0852 - accuracy: 0.9679 - val_loss: 0.1322 - val_accuracy: 0.9563\n",
            "140/140 [==============================] - 1s 9ms/step - loss: 0.0314 - accuracy: 0.9930\n",
            "69/69 [==============================] - 1s 9ms/step - loss: 0.1322 - accuracy: 0.9563\n"
          ],
          "name": "stdout"
        }
      ]
    },
    {
      "cell_type": "code",
      "metadata": {
        "id": "cI8W3o801Ae0",
        "colab_type": "code",
        "colab": {
          "base_uri": "https://localhost:8080/",
          "height": 34
        },
        "outputId": "059ab106-a26c-4d6e-e9f6-109fd0a928f4"
      },
      "source": [
        "model.save(\"/content/drive/My Drive/wkDir/tamilUyirEzhuthukalKeras_Model.h5\")\n",
        "print(\"Saved model to disk\")"
      ],
      "execution_count": null,
      "outputs": [
        {
          "output_type": "stream",
          "text": [
            "Saved model to disk\n"
          ],
          "name": "stdout"
        }
      ]
    },
    {
      "cell_type": "code",
      "metadata": {
        "id": "s3zaJ-JJ1gbF",
        "colab_type": "code",
        "colab": {
          "base_uri": "https://localhost:8080/",
          "height": 52
        },
        "outputId": "a2f17f54-1bd5-4a52-cd9d-bf25536c2978"
      },
      "source": [
        "print(keras.__version__)\n",
        "import tensorflow as tf\n",
        "print(tf.__version__)"
      ],
      "execution_count": null,
      "outputs": [
        {
          "output_type": "stream",
          "text": [
            "2.4.3\n",
            "2.3.0\n"
          ],
          "name": "stdout"
        }
      ]
    },
    {
      "cell_type": "code",
      "metadata": {
        "id": "3JDbmKCXSTzW",
        "colab_type": "code",
        "colab": {}
      },
      "source": [
        "a = []\n",
        "while(1):\n",
        "    a.append('1')"
      ],
      "execution_count": null,
      "outputs": []
    },
    {
      "cell_type": "code",
      "metadata": {
        "id": "u2blfa0OginX",
        "colab_type": "code",
        "colab": {}
      },
      "source": [
        ""
      ],
      "execution_count": null,
      "outputs": []
    }
  ]
}