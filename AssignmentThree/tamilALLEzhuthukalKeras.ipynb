{
  "nbformat": 4,
  "nbformat_minor": 0,
  "metadata": {
    "colab": {
      "name": "tamilALLEzhuthukalKeras.ipynb",
      "provenance": []
    },
    "kernelspec": {
      "name": "python3",
      "display_name": "Python 3"
    },
    "accelerator": "GPU"
  },
  "cells": [
    {
      "cell_type": "code",
      "metadata": {
        "id": "FwwqQQsID_Lu",
        "colab_type": "code",
        "colab": {}
      },
      "source": [
        "import os\n",
        "import cv2\n",
        "import numpy as np\n",
        "import matplotlib.pyplot as plt\n",
        "from PIL import Image\n",
        "import re\n",
        "import csv\n",
        "import pickle\n",
        "import keras\n",
        "from keras.models import Sequential\n",
        "from keras.layers import Dense\n",
        "from keras.utils import to_categorical\n",
        "from keras.layers import Dropout\n",
        "from keras.layers import Flatten\n",
        "from keras.layers.convolutional import Conv2D\n",
        "from keras.layers.convolutional import MaxPooling2D\n",
        "from keras.utils import np_utils\n",
        "from sklearn.model_selection import train_test_split\n",
        "from keras.preprocessing.image import ImageDataGenerator"
      ],
      "execution_count": 1,
      "outputs": []
    },
    {
      "cell_type": "code",
      "metadata": {
        "id": "KHnl85oqD_zv",
        "colab_type": "code",
        "colab": {}
      },
      "source": [
        "w, h = 128, 128\n",
        "numCategory = 156\n",
        "filIm = open('/content/drive/My Drive/wkDir/image_ALL_128x128.obj', 'rb')\n",
        "images = pickle.load(filIm)\n",
        "filLab = open('/content/drive/My Drive/wkDir/label_ALL_128x128.obj', 'rb')\n",
        "labels = pickle.load(filLab)"
      ],
      "execution_count": 2,
      "outputs": []
    },
    {
      "cell_type": "code",
      "metadata": {
        "id": "6oODU4LBEL-u",
        "colab_type": "code",
        "colab": {}
      },
      "source": [
        "def plotIm(img_):\n",
        "  plt.imshow(img_, cmap='gray')\n",
        "  plt.show()"
      ],
      "execution_count": 3,
      "outputs": []
    },
    {
      "cell_type": "code",
      "metadata": {
        "id": "zpF1cwaaEv4E",
        "colab_type": "code",
        "colab": {
          "base_uri": "https://localhost:8080/",
          "height": 54
        },
        "outputId": "123e10ae-c465-48e9-ff69-7e5b653d7162"
      },
      "source": [
        "tamilCharacterCode = []\n",
        "w,h=128,128\n",
        "with open('/content/drive/My Drive/wkDir/unicodeTamil.csv', newline='') as f:\n",
        "  reader = csv.reader(f)\n",
        "  data = list(reader)\n",
        "  for i in data:\n",
        "    go = i[1].split(' ')\n",
        "    charL = \"\"\n",
        "    for gg in go:\n",
        "      charL = charL + \"\\\\u\"+str(gg)\n",
        "    tamilCharacterCode.append(charL.encode('utf-8').decode('unicode-escape'))\n",
        "print(tamilCharacterCode)"
      ],
      "execution_count": 4,
      "outputs": [
        {
          "output_type": "stream",
          "text": [
            "['அ', 'ஆ', 'இ', 'ஈ', 'உ', 'ஊ', 'எ', 'ஏ', 'ஐ', 'ஒ', 'ஓ', 'ஃ', 'க', 'ங', 'ச', 'ஞ', 'ட', 'ண', 'த', 'ந', 'ப', 'ம', 'ய', 'ர', 'ல', 'வ', 'ழ', 'ள', 'ற', 'ன', 'ஸ', 'ஷ', 'ஜ', 'ஹ', 'க்ஷ', 'கி', 'ஙி', 'சி', 'ஞி', 'டி', 'ணி', 'தி', 'நி', 'பி', 'மி', 'யி', 'ரி', 'லி', 'வி', 'ழி', 'ளி', 'றி', 'னி', 'ஸி', 'ஷி', 'ஜி', 'ஹி', 'க்ஷி', 'கீ', 'ஙீ', 'சீ', 'ஞீ', 'டீ', 'ணீ', 'தீ', 'நீ', 'பீ', 'மீ', 'யீ', 'ரீ', 'லீ', 'வீ', 'ழீ', 'ளீ', 'றீ', 'னீ', 'ஸீ', 'ஷீ', 'ஜீ', 'ஹீ', 'க்ஷீ', 'கு', 'ஙு', 'சு', 'ஞு', 'டு', 'ணு', 'து', 'நு', 'பு', 'மு', 'யு', 'ரு', 'லு', 'வு', 'ழு', 'ளு', 'று', 'னு', 'கூ', 'ஙூ', 'சூ', 'ஞூ', 'டூ', 'ணூ', 'தூ', 'நூ', 'பூ', 'மூ', 'யூ', 'ரூ', 'லூ', 'வூ', 'ழூ', 'ளூ', 'றூ', 'னூ', 'ா', 'ெ', 'ே', 'ை', 'ஸ்ரீ', 'ஸு', 'ஷு', 'ஜு', 'ஹு', 'க்ஷு', 'ஸூ', 'ஷூ', 'ஜ0BC2', 'ஹூ', 'க்ஷூ', 'க்', 'ங்', 'ச்', 'ஞ்', 'ட்', 'ண்', 'த்', 'ந்', 'ப்', 'ம்', 'ய்', 'ர்', 'ல்', 'வ்', 'ழ்', 'ள்', 'ற்', 'ன்', 'ஸ்', 'ஷ்', 'ஜ்', 'ஹ்', 'க்ஷ்', 'ஔ']\n"
          ],
          "name": "stdout"
        }
      ]
    },
    {
      "cell_type": "code",
      "metadata": {
        "id": "5uJ4fZWKExFw",
        "colab_type": "code",
        "colab": {
          "base_uri": "https://localhost:8080/",
          "height": 34
        },
        "outputId": "3cda0966-ce92-45ee-eebb-8c6da06ef716"
      },
      "source": [
        "images=np.array(images)\n",
        "labels=np.array(labels,dtype=np.uint8)\n",
        "y_labels=to_categorical(labels)\n",
        "X_train, X_test, y_train, y_test = train_test_split(images, y_labels, test_size=0.33, random_state=42)\n",
        "keras.initializers.lecun_uniform(seed=None)\n",
        "print(X_train.shape, y_train.shape)"
      ],
      "execution_count": 5,
      "outputs": [
        {
          "output_type": "stream",
          "text": [
            "(55549, 128, 128, 1) (55549, 156)\n"
          ],
          "name": "stdout"
        }
      ]
    },
    {
      "cell_type": "code",
      "metadata": {
        "id": "crOs_WYnEyjh",
        "colab_type": "code",
        "colab": {
          "base_uri": "https://localhost:8080/",
          "height": 285
        },
        "outputId": "f83b02bd-470e-4b1c-eb45-191b7275345e"
      },
      "source": [
        "ridx = np.random.randint(X_train.shape[0])\n",
        "print(tamilCharacterCode[np.argmax(y_train[ridx])])\n",
        "plotIm(X_train[ridx].reshape(w,h))"
      ],
      "execution_count": 6,
      "outputs": [
        {
          "output_type": "stream",
          "text": [
            "ஆ\n"
          ],
          "name": "stdout"
        },
        {
          "output_type": "display_data",
          "data": {
            "image/png": "[encoded data removed]",
            "text/plain": [
              "<Figure size 432x288 with 1 Axes>"
            ]
          },
          "metadata": {
            "tags": [],
            "needs_background": "light"
          }
        }
      ]
    },
    {
      "cell_type": "code",
      "metadata": {
        "id": "HY3Md4CcE0rL",
        "colab_type": "code",
        "colab": {
          "base_uri": "https://localhost:8080/",
          "height": 642
        },
        "outputId": "62a6d4da-2b50-42be-ed79-cfedc717b0cc"
      },
      "source": [
        "model = Sequential()\n",
        "model.add(Conv2D(64, (5, 5), input_shape=(w,h,1), activation='relu'))\n",
        "model.add(MaxPooling2D(pool_size=(2, 2)))\n",
        "model.add(Dropout(0.2))\n",
        "model.add(Conv2D(32, (5, 5), activation='relu'))\n",
        "model.add(MaxPooling2D(pool_size=(2, 2)))\n",
        "model.add(Conv2D(32, (5, 5), activation='relu'))\n",
        "model.add(MaxPooling2D(pool_size=(2, 2)))\n",
        "model.add(Dropout(0.2))\n",
        "model.add(Conv2D(32, (5, 5), activation='relu'))\n",
        "model.add(MaxPooling2D(pool_size=(2, 2)))\n",
        "model.add(Dropout(0.2))\n",
        "model.add(Flatten())\n",
        "model.add(Dense(256, activation='relu'))\n",
        "model.add(Dense(numCategory, activation='softmax'))\n",
        "model.summary()\n",
        "model.compile(loss='categorical_crossentropy', optimizer='adam', metrics=['accuracy'])"
      ],
      "execution_count": 7,
      "outputs": [
        {
          "output_type": "stream",
          "text": [
            "Model: \"sequential\"\n",
            "_________________________________________________________________\n",
            "Layer (type)                 Output Shape              Param #   \n",
            "=================================================================\n",
            "conv2d (Conv2D)              (None, 124, 124, 64)      1664      \n",
            "_________________________________________________________________\n",
            "max_pooling2d (MaxPooling2D) (None, 62, 62, 64)        0         \n",
            "_________________________________________________________________\n",
            "dropout (Dropout)            (None, 62, 62, 64)        0         \n",
            "_________________________________________________________________\n",
            "conv2d_1 (Conv2D)            (None, 58, 58, 32)        51232     \n",
            "_________________________________________________________________\n",
            "max_pooling2d_1 (MaxPooling2 (None, 29, 29, 32)        0         \n",
            "_________________________________________________________________\n",
            "conv2d_2 (Conv2D)            (None, 25, 25, 32)        25632     \n",
            "_________________________________________________________________\n",
            "max_pooling2d_2 (MaxPooling2 (None, 12, 12, 32)        0         \n",
            "_________________________________________________________________\n",
            "dropout_1 (Dropout)          (None, 12, 12, 32)        0         \n",
            "_________________________________________________________________\n",
            "conv2d_3 (Conv2D)            (None, 8, 8, 32)          25632     \n",
            "_________________________________________________________________\n",
            "max_pooling2d_3 (MaxPooling2 (None, 4, 4, 32)          0         \n",
            "_________________________________________________________________\n",
            "dropout_2 (Dropout)          (None, 4, 4, 32)          0         \n",
            "_________________________________________________________________\n",
            "flatten (Flatten)            (None, 512)               0         \n",
            "_________________________________________________________________\n",
            "dense (Dense)                (None, 256)               131328    \n",
            "_________________________________________________________________\n",
            "dense_1 (Dense)              (None, 156)               40092     \n",
            "=================================================================\n",
            "Total params: 275,580\n",
            "Trainable params: 275,580\n",
            "Non-trainable params: 0\n",
            "_________________________________________________________________\n"
          ],
          "name": "stdout"
        }
      ]
    },
    {
      "cell_type": "code",
      "metadata": {
        "id": "VLufhmJRE3Lb",
        "colab_type": "code",
        "colab": {
          "base_uri": "https://localhost:8080/",
          "height": 766
        },
        "outputId": "40b8b0b9-8476-4524-cadd-46e45f5b572c"
      },
      "source": [
        "model.fit(X_train, y_train, validation_data=(X_test, y_test), epochs=20, batch_size=100, verbose=1)\n",
        "TrainAccuracy = model.evaluate(X_train, y_train, verbose=1)\n",
        "TestAccuracy = model.evaluate(X_test, y_test, verbose=1)"
      ],
      "execution_count": 8,
      "outputs": [
        {
          "output_type": "stream",
          "text": [
            "Epoch 1/20\n",
            "556/556 [==============================] - 40s 73ms/step - loss: 2.5973 - accuracy: 0.3936 - val_loss: 0.8034 - val_accuracy: 0.7600\n",
            "Epoch 2/20\n",
            "556/556 [==============================] - 40s 73ms/step - loss: 0.7263 - accuracy: 0.7773 - val_loss: 0.5078 - val_accuracy: 0.8457\n",
            "Epoch 3/20\n",
            "556/556 [==============================] - 40s 73ms/step - loss: 0.4996 - accuracy: 0.8412 - val_loss: 0.3778 - val_accuracy: 0.8817\n",
            "Epoch 4/20\n",
            "556/556 [==============================] - 40s 73ms/step - loss: 0.4007 - accuracy: 0.8681 - val_loss: 0.3324 - val_accuracy: 0.8976\n",
            "Epoch 5/20\n",
            "556/556 [==============================] - 41s 73ms/step - loss: 0.3429 - accuracy: 0.8878 - val_loss: 0.3177 - val_accuracy: 0.8985\n",
            "Epoch 6/20\n",
            "556/556 [==============================] - 40s 73ms/step - loss: 0.3070 - accuracy: 0.8972 - val_loss: 0.2972 - val_accuracy: 0.9067\n",
            "Epoch 7/20\n",
            "556/556 [==============================] - 40s 73ms/step - loss: 0.2700 - accuracy: 0.9079 - val_loss: 0.2879 - val_accuracy: 0.9099\n",
            "Epoch 8/20\n",
            "556/556 [==============================] - 40s 73ms/step - loss: 0.2521 - accuracy: 0.9142 - val_loss: 0.2814 - val_accuracy: 0.9121\n",
            "Epoch 9/20\n",
            "556/556 [==============================] - 40s 73ms/step - loss: 0.2311 - accuracy: 0.9214 - val_loss: 0.2658 - val_accuracy: 0.9179\n",
            "Epoch 10/20\n",
            "556/556 [==============================] - 40s 73ms/step - loss: 0.2225 - accuracy: 0.9233 - val_loss: 0.2693 - val_accuracy: 0.9166\n",
            "Epoch 11/20\n",
            "556/556 [==============================] - 40s 73ms/step - loss: 0.2030 - accuracy: 0.9297 - val_loss: 0.2675 - val_accuracy: 0.9216\n",
            "Epoch 12/20\n",
            "556/556 [==============================] - 40s 73ms/step - loss: 0.1912 - accuracy: 0.9335 - val_loss: 0.2590 - val_accuracy: 0.9212\n",
            "Epoch 13/20\n",
            "556/556 [==============================] - 40s 73ms/step - loss: 0.1859 - accuracy: 0.9342 - val_loss: 0.2555 - val_accuracy: 0.9227\n",
            "Epoch 14/20\n",
            "556/556 [==============================] - 40s 73ms/step - loss: 0.1695 - accuracy: 0.9404 - val_loss: 0.2545 - val_accuracy: 0.9226\n",
            "Epoch 15/20\n",
            "556/556 [==============================] - 40s 73ms/step - loss: 0.1703 - accuracy: 0.9402 - val_loss: 0.2398 - val_accuracy: 0.9271\n",
            "Epoch 16/20\n",
            "556/556 [==============================] - 40s 72ms/step - loss: 0.1603 - accuracy: 0.9425 - val_loss: 0.2567 - val_accuracy: 0.9224\n",
            "Epoch 17/20\n",
            "556/556 [==============================] - 40s 72ms/step - loss: 0.1517 - accuracy: 0.9465 - val_loss: 0.2757 - val_accuracy: 0.9232\n",
            "Epoch 18/20\n",
            "556/556 [==============================] - 40s 73ms/step - loss: 0.1441 - accuracy: 0.9492 - val_loss: 0.2633 - val_accuracy: 0.9259\n",
            "Epoch 19/20\n",
            "556/556 [==============================] - 40s 73ms/step - loss: 0.1399 - accuracy: 0.9506 - val_loss: 0.2589 - val_accuracy: 0.9257\n",
            "Epoch 20/20\n",
            "556/556 [==============================] - 40s 72ms/step - loss: 0.1396 - accuracy: 0.9497 - val_loss: 0.2584 - val_accuracy: 0.9257\n",
            "1736/1736 [==============================] - 15s 8ms/step - loss: 0.0494 - accuracy: 0.9842\n",
            "856/856 [==============================] - 7s 8ms/step - loss: 0.2584 - accuracy: 0.9257\n"
          ],
          "name": "stdout"
        }
      ]
    },
    {
      "cell_type": "code",
      "metadata": {
        "id": "99nBPJH1E9G7",
        "colab_type": "code",
        "colab": {
          "base_uri": "https://localhost:8080/",
          "height": 34
        },
        "outputId": "cdb099b1-0015-45c5-ac10-1568aa457b4a"
      },
      "source": [
        "model.save(\"/content/drive/My Drive/wkDir/tamilALLEzhuthukalKeras_Model.h5\")\n",
        "print(\"Saved model to disk\")"
      ],
      "execution_count": 9,
      "outputs": [
        {
          "output_type": "stream",
          "text": [
            "Saved model to disk\n"
          ],
          "name": "stdout"
        }
      ]
    }
  ]
}