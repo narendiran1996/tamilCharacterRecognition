{
  "nbformat": 4,
  "nbformat_minor": 0,
  "metadata": {
    "colab": {
      "name": "tamilUyirEzhuthukalTensor.ipynb",
      "provenance": [],
      "collapsed_sections": []
    },
    "kernelspec": {
      "name": "python3",
      "display_name": "Python 3"
    },
    "accelerator": "GPU"
  },
  "cells": [
    {
      "cell_type": "code",
      "metadata": {
        "id": "e4HxBbAsezqg",
        "colab_type": "code",
        "colab": {
          "base_uri": "https://localhost:8080/",
          "height": 89
        },
        "outputId": "50a85b21-a25d-4dcc-8f36-672cda5e0026",
        "tags": []
      },
      "source": [
        "import numpy as np\n",
        "#import tensorflow as tf\n",
        "import tensorflow.compat.v1 as tf\n",
        "tf.disable_v2_behavior()\n",
        "import pickle\n",
        "import csv\n",
        "import matplotlib.pyplot as plt\n",
        "from PIL import Image\n",
        "from sklearn.model_selection import train_test_split\n",
        "\n",
        "\n",
        "\n",
        "import os\n",
        "import cv2"
      ],
      "execution_count": 1,
      "outputs": [
        {
          "output_type": "stream",
          "name": "stdout",
          "text": "WARNING:tensorflow:From /home/narendiran/.local/lib/python3.8/site-packages/tensorflow/python/compat/v2_compat.py:96: disable_resource_variables (from tensorflow.python.ops.variable_scope) is deprecated and will be removed in a future version.\nInstructions for updating:\nnon-resource variables are not supported in the long term\n"
        }
      ]
    },
    {
      "cell_type": "code",
      "metadata": {
        "id": "y95dhATZgOEC",
        "colab_type": "code",
        "colab": {}
      },
      "source": [
        "def plotIm(img_):\n",
        "  plt.imshow(img_, cmap='gray')\n",
        "  plt.show()\n",
        "\n",
        "def toCategorical(labels_, numCategory):\n",
        "    retY = np.zeros((labels_.shape[0], numCategory))\n",
        "    for i in range(retY.shape[0]):\n",
        "        retY[i,labels_[i]] =1\n",
        "    return retY\n",
        "def get_batch_next(X, Y, batch_size,ga):\n",
        "    if ga == int(X.shape[0]/batch_size):\n",
        "        ga = 0\n",
        "    return ga+1,X[ga*batch_size : (ga+1)*batch_size, :],Y[ga*batch_size : (ga+1)*batch_size, :]"
      ],
      "execution_count": 2,
      "outputs": []
    },
    {
      "cell_type": "code",
      "metadata": {
        "id": "P08m1x19fKOl",
        "colab_type": "code",
        "colab": {}
      },
      "source": [
        "w, h = 128, 128\n",
        "numCategory = 12\n",
        "filIm = open('./image_uyir_128x128.obj', 'rb')\n",
        "imagesP = pickle.load(filIm)\n",
        "filLab = open('./label_uyir_128x128.obj', 'rb')\n",
        "labelsP = pickle.load(filLab)"
      ],
      "execution_count": 3,
      "outputs": []
    },
    {
      "cell_type": "code",
      "metadata": {
        "id": "-2j0grWLfNiU",
        "colab_type": "code",
        "colab": {
          "base_uri": "https://localhost:8080/",
          "height": 54
        },
        "outputId": "e596a7e3-f132-4548-b248-1497774a9e93",
        "tags": []
      },
      "source": [
        "tamilCharacterCode = []\n",
        "w,h=128,128\n",
        "with open('./unicodeTamil.csv', newline='') as f:\n",
        "  reader = csv.reader(f)\n",
        "  data = list(reader)\n",
        "  for i in data:\n",
        "    go = i[1].split(' ')\n",
        "    charL = \"\"\n",
        "    for gg in go:\n",
        "      charL = charL + \"\\\\u\"+str(gg)\n",
        "    tamilCharacterCode.append(charL.encode('utf-8').decode('unicode-escape'))\n",
        "print(tamilCharacterCode)"
      ],
      "execution_count": 4,
      "outputs": [
        {
          "output_type": "stream",
          "name": "stdout",
          "text": "['அ', 'ஆ', 'இ', 'ஈ', 'உ', 'ஊ', 'எ', 'ஏ', 'ஐ', 'ஒ', 'ஓ', 'ஃ', 'க', 'ங', 'ச', 'ஞ', 'ட', 'ண', 'த', 'ந', 'ப', 'ம', 'ய', 'ர', 'ல', 'வ', 'ழ', 'ள', 'ற', 'ன', 'ஸ', 'ஷ', 'ஜ', 'ஹ', 'க்ஷ', 'கி', 'ஙி', 'சி', 'ஞி', 'டி', 'ணி', 'தி', 'நி', 'பி', 'மி', 'யி', 'ரி', 'லி', 'வி', 'ழி', 'ளி', 'றி', 'னி', 'ஸி', 'ஷி', 'ஜி', 'ஹி', 'க்ஷி', 'கீ', 'ஙீ', 'சீ', 'ஞீ', 'டீ', 'ணீ', 'தீ', 'நீ', 'பீ', 'மீ', 'யீ', 'ரீ', 'லீ', 'வீ', 'ழீ', 'ளீ', 'றீ', 'னீ', 'ஸீ', 'ஷீ', 'ஜீ', 'ஹீ', 'க்ஷீ', 'கு', 'ஙு', 'சு', 'ஞு', 'டு', 'ணு', 'து', 'நு', 'பு', 'மு', 'யு', 'ரு', 'லு', 'வு', 'ழு', 'ளு', 'று', 'னு', 'கூ', 'ஙூ', 'சூ', 'ஞூ', 'டூ', 'ணூ', 'தூ', 'நூ', 'பூ', 'மூ', 'யூ', 'ரூ', 'லூ', 'வூ', 'ழூ', 'ளூ', 'றூ', 'னூ', 'ா', 'ெ', 'ே', 'ை', 'ஸ்ரீ', 'ஸு', 'ஷு', 'ஜு', 'ஹு', 'க்ஷு', 'ஸூ', 'ஷூ', 'ஜ0BC2', 'ஹூ', 'க்ஷூ', 'க்', 'ங்', 'ச்', 'ஞ்', 'ட்', 'ண்', 'த்', 'ந்', 'ப்', 'ம்', 'ய்', 'ர்', 'ல்', 'வ்', 'ழ்', 'ள்', 'ற்', 'ன்', 'ஸ்', 'ஷ்', 'ஜ்', 'ஹ்', 'க்ஷ்', 'ஔ']\n"
        }
      ]
    },
    {
      "cell_type": "code",
      "metadata": {
        "id": "9qhEd-LLfmCH",
        "colab_type": "code",
        "colab": {
          "base_uri": "https://localhost:8080/",
          "height": 34
        },
        "outputId": "a6317058-a3ba-4155-99e5-e5fd0ca73287",
        "tags": []
      },
      "source": [
        "images=np.array(imagesP)[:,:,:,0]\n",
        "images=images.reshape(images.shape[0], w*h)\n",
        "labels=np.array(labelsP,dtype=np.uint8)\n",
        "y_labels=toCategorical(labels, numCategory)\n",
        "X_train, X_test, y_train, y_test = train_test_split(images, y_labels, test_size=0.33, random_state=42)\n",
        "print(X_train.shape, y_train.shape)"
      ],
      "execution_count": 5,
      "outputs": [
        {
          "output_type": "stream",
          "name": "stdout",
          "text": "(4455, 16384) (4455, 12)\n"
        }
      ]
    },
    {
      "cell_type": "code",
      "metadata": {
        "id": "lCzCkxkGftiq",
        "colab_type": "code",
        "colab": {
          "base_uri": "https://localhost:8080/",
          "height": 285
        },
        "outputId": "792ea6fd-bb34-4d11-bd94-8b722fb059e5",
        "tags": []
      },
      "source": [
        "ridx = np.random.randint(X_train.shape[0])\n",
        "print(tamilCharacterCode[np.argmax(y_train[ridx])])\n",
        "plotIm(X_train[ridx].reshape(w,h))"
      ],
      "execution_count": 6,
      "outputs": [
        {
          "output_type": "stream",
          "name": "stdout",
          "text": "அ\n"
        },
        {
          "output_type": "display_data",
          "data": {
            "text/plain": "<Figure size 432x288 with 1 Axes>",
            "image/svg+xml": "<?xml version=\"1.0\" encoding=\"utf-8\" standalone=\"no\"?>\n<!DOCTYPE svg PUBLIC \"-//W3C//DTD SVG 1.1//EN\"\n  \"http://www.w3.org/Graphics/SVG/1.1/DTD/svg11.dtd\">\n<!-- Created with matplotlib (https://matplotlib.org/) -->\n<svg height=\"251.467969pt\" version=\"1.1\" viewBox=\"0 0 257.9275 251.467969\" width=\"257.9275pt\" xmlns=\"http://www.w3.org/2000/svg\" xmlns:xlink=\"http://www.w3.org/1999/xlink\">\n <defs>\n  <style type=\"text/css\">\n*{stroke-linecap:butt;stroke-linejoin:round;}\n  </style>\n </defs>\n <g id=\"figure_1\">\n  <g id=\"patch_1\">\n   <path d=\"M 0 251.467969 \nL 257.9275 251.467969 \nL 257.9275 0 \nL 0 0 \nz\n\" style=\"fill:none;\"/>\n  </g>\n  <g id=\"axes_1\">\n   <g id=\"patch_2\">\n    <path d=\"M 33.2875 227.589844 \nL 250.7275 227.589844 \nL 250.7275 10.149844 \nL 33.2875 10.149844 \nz\n\" style=\"fill:#ffffff;\"/>\n   </g>\n   <g clip-path=\"url(#pf954efb301)\">\n    <image height=\"218\" id=\"image4590e36c8f\" transform=\"scale(1 -1)translate(0 -218)\" width=\"218\" x=\"33.2875\" xlink:href=\"data:image/png;base64,\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\" y=\"-9.589844\"/>\n   </g>\n   <g id=\"matplotlib.axis_1\">\n    <g id=\"xtick_1\">\n     <g id=\"line2d_1\">\n      <defs>\n       <path d=\"M 0 0 \nL 0 3.5 \n\" id=\"m27f86d6695\" style=\"stroke:#000000;stroke-width:0.8;\"/>\n      </defs>\n      <g>\n       <use style=\"stroke:#000000;stroke-width:0.8;\" x=\"34.136875\" xlink:href=\"#m27f86d6695\" y=\"227.589844\"/>\n      </g>\n     </g>\n     <g id=\"text_1\">\n      <!-- 0 -->\n      <defs>\n       <path d=\"M 31.78125 66.40625 \nQ 24.171875 66.40625 20.328125 58.90625 \nQ 16.5 51.421875 16.5 36.375 \nQ 16.5 21.390625 20.328125 13.890625 \nQ 24.171875 6.390625 31.78125 6.390625 \nQ 39.453125 6.390625 43.28125 13.890625 \nQ 47.125 21.390625 47.125 36.375 \nQ 47.125 51.421875 43.28125 58.90625 \nQ 39.453125 66.40625 31.78125 66.40625 \nz\nM 31.78125 74.21875 \nQ 44.046875 74.21875 50.515625 64.515625 \nQ 56.984375 54.828125 56.984375 36.375 \nQ 56.984375 17.96875 50.515625 8.265625 \nQ 44.046875 -1.421875 31.78125 -1.421875 \nQ 19.53125 -1.421875 13.0625 8.265625 \nQ 6.59375 17.96875 6.59375 36.375 \nQ 6.59375 54.828125 13.0625 64.515625 \nQ 19.53125 74.21875 31.78125 74.21875 \nz\n\" id=\"DejaVuSans-48\"/>\n      </defs>\n      <g transform=\"translate(30.955625 242.188281)scale(0.1 -0.1)\">\n       <use xlink:href=\"#DejaVuSans-48\"/>\n      </g>\n     </g>\n    </g>\n    <g id=\"xtick_2\">\n     <g id=\"line2d_2\">\n      <g>\n       <use style=\"stroke:#000000;stroke-width:0.8;\" x=\"68.111875\" xlink:href=\"#m27f86d6695\" y=\"227.589844\"/>\n      </g>\n     </g>\n     <g id=\"text_2\">\n      <!-- 20 -->\n      <defs>\n       <path d=\"M 19.1875 8.296875 \nL 53.609375 8.296875 \nL 53.609375 0 \nL 7.328125 0 \nL 7.328125 8.296875 \nQ 12.9375 14.109375 22.625 23.890625 \nQ 32.328125 33.6875 34.8125 36.53125 \nQ 39.546875 41.84375 41.421875 45.53125 \nQ 43.3125 49.21875 43.3125 52.78125 \nQ 43.3125 58.59375 39.234375 62.25 \nQ 35.15625 65.921875 28.609375 65.921875 \nQ 23.96875 65.921875 18.8125 64.3125 \nQ 13.671875 62.703125 7.8125 59.421875 \nL 7.8125 69.390625 \nQ 13.765625 71.78125 18.9375 73 \nQ 24.125 74.21875 28.421875 74.21875 \nQ 39.75 74.21875 46.484375 68.546875 \nQ 53.21875 62.890625 53.21875 53.421875 \nQ 53.21875 48.921875 51.53125 44.890625 \nQ 49.859375 40.875 45.40625 35.40625 \nQ 44.1875 33.984375 37.640625 27.21875 \nQ 31.109375 20.453125 19.1875 8.296875 \nz\n\" id=\"DejaVuSans-50\"/>\n      </defs>\n      <g transform=\"translate(61.749375 242.188281)scale(0.1 -0.1)\">\n       <use xlink:href=\"#DejaVuSans-50\"/>\n       <use x=\"63.623047\" xlink:href=\"#DejaVuSans-48\"/>\n      </g>\n     </g>\n    </g>\n    <g id=\"xtick_3\">\n     <g id=\"line2d_3\">\n      <g>\n       <use style=\"stroke:#000000;stroke-width:0.8;\" x=\"102.086875\" xlink:href=\"#m27f86d6695\" y=\"227.589844\"/>\n      </g>\n     </g>\n     <g id=\"text_3\">\n      <!-- 40 -->\n      <defs>\n       <path d=\"M 37.796875 64.3125 \nL 12.890625 25.390625 \nL 37.796875 25.390625 \nz\nM 35.203125 72.90625 \nL 47.609375 72.90625 \nL 47.609375 25.390625 \nL 58.015625 25.390625 \nL 58.015625 17.1875 \nL 47.609375 17.1875 \nL 47.609375 0 \nL 37.796875 0 \nL 37.796875 17.1875 \nL 4.890625 17.1875 \nL 4.890625 26.703125 \nz\n\" id=\"DejaVuSans-52\"/>\n      </defs>\n      <g transform=\"translate(95.724375 242.188281)scale(0.1 -0.1)\">\n       <use xlink:href=\"#DejaVuSans-52\"/>\n       <use x=\"63.623047\" xlink:href=\"#DejaVuSans-48\"/>\n      </g>\n     </g>\n    </g>\n    <g id=\"xtick_4\">\n     <g id=\"line2d_4\">\n      <g>\n       <use style=\"stroke:#000000;stroke-width:0.8;\" x=\"136.061875\" xlink:href=\"#m27f86d6695\" y=\"227.589844\"/>\n      </g>\n     </g>\n     <g id=\"text_4\">\n      <!-- 60 -->\n      <defs>\n       <path d=\"M 33.015625 40.375 \nQ 26.375 40.375 22.484375 35.828125 \nQ 18.609375 31.296875 18.609375 23.390625 \nQ 18.609375 15.53125 22.484375 10.953125 \nQ 26.375 6.390625 33.015625 6.390625 \nQ 39.65625 6.390625 43.53125 10.953125 \nQ 47.40625 15.53125 47.40625 23.390625 \nQ 47.40625 31.296875 43.53125 35.828125 \nQ 39.65625 40.375 33.015625 40.375 \nz\nM 52.59375 71.296875 \nL 52.59375 62.3125 \nQ 48.875 64.0625 45.09375 64.984375 \nQ 41.3125 65.921875 37.59375 65.921875 \nQ 27.828125 65.921875 22.671875 59.328125 \nQ 17.53125 52.734375 16.796875 39.40625 \nQ 19.671875 43.65625 24.015625 45.921875 \nQ 28.375 48.1875 33.59375 48.1875 \nQ 44.578125 48.1875 50.953125 41.515625 \nQ 57.328125 34.859375 57.328125 23.390625 \nQ 57.328125 12.15625 50.6875 5.359375 \nQ 44.046875 -1.421875 33.015625 -1.421875 \nQ 20.359375 -1.421875 13.671875 8.265625 \nQ 6.984375 17.96875 6.984375 36.375 \nQ 6.984375 53.65625 15.1875 63.9375 \nQ 23.390625 74.21875 37.203125 74.21875 \nQ 40.921875 74.21875 44.703125 73.484375 \nQ 48.484375 72.75 52.59375 71.296875 \nz\n\" id=\"DejaVuSans-54\"/>\n      </defs>\n      <g transform=\"translate(129.699375 242.188281)scale(0.1 -0.1)\">\n       <use xlink:href=\"#DejaVuSans-54\"/>\n       <use x=\"63.623047\" xlink:href=\"#DejaVuSans-48\"/>\n      </g>\n     </g>\n    </g>\n    <g id=\"xtick_5\">\n     <g id=\"line2d_5\">\n      <g>\n       <use style=\"stroke:#000000;stroke-width:0.8;\" x=\"170.036875\" xlink:href=\"#m27f86d6695\" y=\"227.589844\"/>\n      </g>\n     </g>\n     <g id=\"text_5\">\n      <!-- 80 -->\n      <defs>\n       <path d=\"M 31.78125 34.625 \nQ 24.75 34.625 20.71875 30.859375 \nQ 16.703125 27.09375 16.703125 20.515625 \nQ 16.703125 13.921875 20.71875 10.15625 \nQ 24.75 6.390625 31.78125 6.390625 \nQ 38.8125 6.390625 42.859375 10.171875 \nQ 46.921875 13.96875 46.921875 20.515625 \nQ 46.921875 27.09375 42.890625 30.859375 \nQ 38.875 34.625 31.78125 34.625 \nz\nM 21.921875 38.8125 \nQ 15.578125 40.375 12.03125 44.71875 \nQ 8.5 49.078125 8.5 55.328125 \nQ 8.5 64.0625 14.71875 69.140625 \nQ 20.953125 74.21875 31.78125 74.21875 \nQ 42.671875 74.21875 48.875 69.140625 \nQ 55.078125 64.0625 55.078125 55.328125 \nQ 55.078125 49.078125 51.53125 44.71875 \nQ 48 40.375 41.703125 38.8125 \nQ 48.828125 37.15625 52.796875 32.3125 \nQ 56.78125 27.484375 56.78125 20.515625 \nQ 56.78125 9.90625 50.3125 4.234375 \nQ 43.84375 -1.421875 31.78125 -1.421875 \nQ 19.734375 -1.421875 13.25 4.234375 \nQ 6.78125 9.90625 6.78125 20.515625 \nQ 6.78125 27.484375 10.78125 32.3125 \nQ 14.796875 37.15625 21.921875 38.8125 \nz\nM 18.3125 54.390625 \nQ 18.3125 48.734375 21.84375 45.5625 \nQ 25.390625 42.390625 31.78125 42.390625 \nQ 38.140625 42.390625 41.71875 45.5625 \nQ 45.3125 48.734375 45.3125 54.390625 \nQ 45.3125 60.0625 41.71875 63.234375 \nQ 38.140625 66.40625 31.78125 66.40625 \nQ 25.390625 66.40625 21.84375 63.234375 \nQ 18.3125 60.0625 18.3125 54.390625 \nz\n\" id=\"DejaVuSans-56\"/>\n      </defs>\n      <g transform=\"translate(163.674375 242.188281)scale(0.1 -0.1)\">\n       <use xlink:href=\"#DejaVuSans-56\"/>\n       <use x=\"63.623047\" xlink:href=\"#DejaVuSans-48\"/>\n      </g>\n     </g>\n    </g>\n    <g id=\"xtick_6\">\n     <g id=\"line2d_6\">\n      <g>\n       <use style=\"stroke:#000000;stroke-width:0.8;\" x=\"204.011875\" xlink:href=\"#m27f86d6695\" y=\"227.589844\"/>\n      </g>\n     </g>\n     <g id=\"text_6\">\n      <!-- 100 -->\n      <defs>\n       <path d=\"M 12.40625 8.296875 \nL 28.515625 8.296875 \nL 28.515625 63.921875 \nL 10.984375 60.40625 \nL 10.984375 69.390625 \nL 28.421875 72.90625 \nL 38.28125 72.90625 \nL 38.28125 8.296875 \nL 54.390625 8.296875 \nL 54.390625 0 \nL 12.40625 0 \nz\n\" id=\"DejaVuSans-49\"/>\n      </defs>\n      <g transform=\"translate(194.468125 242.188281)scale(0.1 -0.1)\">\n       <use xlink:href=\"#DejaVuSans-49\"/>\n       <use x=\"63.623047\" xlink:href=\"#DejaVuSans-48\"/>\n       <use x=\"127.246094\" xlink:href=\"#DejaVuSans-48\"/>\n      </g>\n     </g>\n    </g>\n    <g id=\"xtick_7\">\n     <g id=\"line2d_7\">\n      <g>\n       <use style=\"stroke:#000000;stroke-width:0.8;\" x=\"237.986875\" xlink:href=\"#m27f86d6695\" y=\"227.589844\"/>\n      </g>\n     </g>\n     <g id=\"text_7\">\n      <!-- 120 -->\n      <g transform=\"translate(228.443125 242.188281)scale(0.1 -0.1)\">\n       <use xlink:href=\"#DejaVuSans-49\"/>\n       <use x=\"63.623047\" xlink:href=\"#DejaVuSans-50\"/>\n       <use x=\"127.246094\" xlink:href=\"#DejaVuSans-48\"/>\n      </g>\n     </g>\n    </g>\n   </g>\n   <g id=\"matplotlib.axis_2\">\n    <g id=\"ytick_1\">\n     <g id=\"line2d_8\">\n      <defs>\n       <path d=\"M 0 0 \nL -3.5 0 \n\" id=\"m1332570d67\" style=\"stroke:#000000;stroke-width:0.8;\"/>\n      </defs>\n      <g>\n       <use style=\"stroke:#000000;stroke-width:0.8;\" x=\"33.2875\" xlink:href=\"#m1332570d67\" y=\"10.999219\"/>\n      </g>\n     </g>\n     <g id=\"text_8\">\n      <!-- 0 -->\n      <g transform=\"translate(19.925 14.798438)scale(0.1 -0.1)\">\n       <use xlink:href=\"#DejaVuSans-48\"/>\n      </g>\n     </g>\n    </g>\n    <g id=\"ytick_2\">\n     <g id=\"line2d_9\">\n      <g>\n       <use style=\"stroke:#000000;stroke-width:0.8;\" x=\"33.2875\" xlink:href=\"#m1332570d67\" y=\"44.974219\"/>\n      </g>\n     </g>\n     <g id=\"text_9\">\n      <!-- 20 -->\n      <g transform=\"translate(13.5625 48.773438)scale(0.1 -0.1)\">\n       <use xlink:href=\"#DejaVuSans-50\"/>\n       <use x=\"63.623047\" xlink:href=\"#DejaVuSans-48\"/>\n      </g>\n     </g>\n    </g>\n    <g id=\"ytick_3\">\n     <g id=\"line2d_10\">\n      <g>\n       <use style=\"stroke:#000000;stroke-width:0.8;\" x=\"33.2875\" xlink:href=\"#m1332570d67\" y=\"78.949219\"/>\n      </g>\n     </g>\n     <g id=\"text_10\">\n      <!-- 40 -->\n      <g transform=\"translate(13.5625 82.748437)scale(0.1 -0.1)\">\n       <use xlink:href=\"#DejaVuSans-52\"/>\n       <use x=\"63.623047\" xlink:href=\"#DejaVuSans-48\"/>\n      </g>\n     </g>\n    </g>\n    <g id=\"ytick_4\">\n     <g id=\"line2d_11\">\n      <g>\n       <use style=\"stroke:#000000;stroke-width:0.8;\" x=\"33.2875\" xlink:href=\"#m1332570d67\" y=\"112.924219\"/>\n      </g>\n     </g>\n     <g id=\"text_11\">\n      <!-- 60 -->\n      <g transform=\"translate(13.5625 116.723438)scale(0.1 -0.1)\">\n       <use xlink:href=\"#DejaVuSans-54\"/>\n       <use x=\"63.623047\" xlink:href=\"#DejaVuSans-48\"/>\n      </g>\n     </g>\n    </g>\n    <g id=\"ytick_5\">\n     <g id=\"line2d_12\">\n      <g>\n       <use style=\"stroke:#000000;stroke-width:0.8;\" x=\"33.2875\" xlink:href=\"#m1332570d67\" y=\"146.899219\"/>\n      </g>\n     </g>\n     <g id=\"text_12\">\n      <!-- 80 -->\n      <g transform=\"translate(13.5625 150.698438)scale(0.1 -0.1)\">\n       <use xlink:href=\"#DejaVuSans-56\"/>\n       <use x=\"63.623047\" xlink:href=\"#DejaVuSans-48\"/>\n      </g>\n     </g>\n    </g>\n    <g id=\"ytick_6\">\n     <g id=\"line2d_13\">\n      <g>\n       <use style=\"stroke:#000000;stroke-width:0.8;\" x=\"33.2875\" xlink:href=\"#m1332570d67\" y=\"180.874219\"/>\n      </g>\n     </g>\n     <g id=\"text_13\">\n      <!-- 100 -->\n      <g transform=\"translate(7.2 184.673438)scale(0.1 -0.1)\">\n       <use xlink:href=\"#DejaVuSans-49\"/>\n       <use x=\"63.623047\" xlink:href=\"#DejaVuSans-48\"/>\n       <use x=\"127.246094\" xlink:href=\"#DejaVuSans-48\"/>\n      </g>\n     </g>\n    </g>\n    <g id=\"ytick_7\">\n     <g id=\"line2d_14\">\n      <g>\n       <use style=\"stroke:#000000;stroke-width:0.8;\" x=\"33.2875\" xlink:href=\"#m1332570d67\" y=\"214.849219\"/>\n      </g>\n     </g>\n     <g id=\"text_14\">\n      <!-- 120 -->\n      <g transform=\"translate(7.2 218.648438)scale(0.1 -0.1)\">\n       <use xlink:href=\"#DejaVuSans-49\"/>\n       <use x=\"63.623047\" xlink:href=\"#DejaVuSans-50\"/>\n       <use x=\"127.246094\" xlink:href=\"#DejaVuSans-48\"/>\n      </g>\n     </g>\n    </g>\n   </g>\n   <g id=\"patch_3\">\n    <path d=\"M 33.2875 227.589844 \nL 33.2875 10.149844 \n\" style=\"fill:none;stroke:#000000;stroke-linecap:square;stroke-linejoin:miter;stroke-width:0.8;\"/>\n   </g>\n   <g id=\"patch_4\">\n    <path d=\"M 250.7275 227.589844 \nL 250.7275 10.149844 \n\" style=\"fill:none;stroke:#000000;stroke-linecap:square;stroke-linejoin:miter;stroke-width:0.8;\"/>\n   </g>\n   <g id=\"patch_5\">\n    <path d=\"M 33.2875 227.589844 \nL 250.7275 227.589844 \n\" style=\"fill:none;stroke:#000000;stroke-linecap:square;stroke-linejoin:miter;stroke-width:0.8;\"/>\n   </g>\n   <g id=\"patch_6\">\n    <path d=\"M 33.2875 10.149844 \nL 250.7275 10.149844 \n\" style=\"fill:none;stroke:#000000;stroke-linecap:square;stroke-linejoin:miter;stroke-width:0.8;\"/>\n   </g>\n  </g>\n </g>\n <defs>\n  <clipPath id=\"pf954efb301\">\n   <rect height=\"217.44\" width=\"217.44\" x=\"33.2875\" y=\"10.149844\"/>\n  </clipPath>\n </defs>\n</svg>\n",
            "image/png": "[encoded data removed]"
          },
          "metadata": {
            "needs_background": "light"
          }
        }
      ]
    },
    {
      "cell_type": "code",
      "metadata": {
        "id": "bnldnBw3oZeD",
        "colab_type": "code",
        "colab": {}
      },
      "source": [
        "batch_size = 300\n",
        "num_steps = 200\n",
        "learning_rate = 0.01\n",
        "display_step = 50"
      ],
      "execution_count": 7,
      "outputs": []
    },
    {
      "cell_type": "code",
      "metadata": {
        "id": "THYhNn2biVqV",
        "colab_type": "code",
        "colab": {}
      },
      "source": [
        "n_hidden_1 = 300\n",
        "\n",
        "weights = {\n",
        "    'wc1' : tf.Variable(tf.random_normal([5, 5, 1, 64])),\n",
        "    'wc2' : tf.Variable(tf.random_normal([5, 5, 64, 32])),\n",
        "    'wc3' : tf.Variable(tf.random_normal([5, 5, 32, 32])),\n",
        "    'wc4' : tf.Variable(tf.random_normal([5, 5, 32, 32])),\n",
        "\n",
        "    'h1': tf.Variable(tf.random_normal([5*5*32, n_hidden_1])),\n",
        "    'out': tf.Variable(tf.random_normal([n_hidden_1, numCategory]))\n",
        "\n",
        "}\n",
        "biases = {\n",
        "    'bc1': tf.Variable(tf.random_normal([64])),\n",
        "    'bc2': tf.Variable(tf.random_normal([32])),\n",
        "    'bc3': tf.Variable(tf.random_normal([32])),\n",
        "    'bc4': tf.Variable(tf.random_normal([32])),\n",
        "\n",
        "    'b1': tf.Variable(tf.random_normal([n_hidden_1])),\n",
        "    'out': tf.Variable(tf.random_normal([numCategory]))\n",
        "}"
      ],
      "execution_count": 8,
      "outputs": []
    },
    {
      "cell_type": "code",
      "metadata": {
        "id": "K1LGzhv8hmAD",
        "colab_type": "code",
        "colab": {}
      },
      "source": [
        "def conv2d(x, W, b, strides=1):\n",
        "    # Conv2D wrapper, with bias and relu activation\n",
        "    x = tf.nn.conv2d(x, W, strides=[1, strides, strides, 1], padding='VALID')\n",
        "    x = tf.nn.bias_add(x, b)\n",
        "    return tf.nn.relu(x)\n",
        "def maxpool2d(x, k=2):\n",
        "    # MaxPool2D wrapper\n",
        "    return tf.nn.max_pool(x, ksize=[1, k, k, 1], strides=[1, k, k, 1], padding='SAME')\n",
        "def model(X,Y,w,h,weights,biases):\n",
        "    x = tf.reshape(X, shape=[-1, w, h, 1])\n",
        "    conv1 = conv2d(x, weights['wc1'], biases['bc1'])\n",
        "    maxP1 = maxpool2d(conv1)\n",
        "    conv2 = conv2d(maxP1, weights['wc2'], biases['bc2'])\n",
        "    maxP2 = maxpool2d(conv2)\n",
        "    conv3 = conv2d(maxP2, weights['wc3'], biases['bc3'])\n",
        "    maxP3 = maxpool2d(conv3)\n",
        "    conv4 = conv2d(maxP3, weights['wc4'], biases['bc4'])\n",
        "    maxP4 = maxpool2d(conv4)\n",
        "\n",
        "    flatternIT = tf.reshape(maxP4, [-1, weights['h1'].get_shape().as_list()[0]])\n",
        "\n",
        "    layer_1 = tf.add(tf.matmul(flatternIT, weights['h1']), biases['b1'])\n",
        "    layer_1 = tf.nn.relu(layer_1)\n",
        "\n",
        "    out_layer = tf.matmul(layer_1, weights['out']) + biases['out']\n",
        "\n",
        "    return out_layer"
      ],
      "execution_count": 9,
      "outputs": []
    },
    {
      "cell_type": "code",
      "metadata": {
        "id": "XFUSZpXziR5U",
        "colab_type": "code",
        "colab": {}
      },
      "source": [
        "X = tf.placeholder(tf.float32, [None, w*h])\n",
        "Y = tf.placeholder(tf.float32, [None, numCategory])\n",
        "\n",
        "logits = model(X,Y,w,h,weights, biases)\n",
        "prediction = tf.nn.softmax(logits)\n",
        "loss_op = tf.reduce_mean(tf.nn.softmax_cross_entropy_with_logits_v2(logits=logits, labels=Y))\n",
        "optimizer = tf.train.AdamOptimizer(learning_rate=learning_rate)\n",
        "train_op = optimizer.minimize(loss_op)\n",
        "\n",
        "correct_pred = tf.equal(tf.argmax(prediction, 1), tf.argmax(Y, 1))\n",
        "accuracy = tf.reduce_mean(tf.cast(correct_pred, tf.float32))\n",
        "\n",
        "init = tf.global_variables_initializer()"
      ],
      "execution_count": 10,
      "outputs": []
    },
    {
      "cell_type": "code",
      "metadata": {
        "id": "p6SRhjaItOAK",
        "colab_type": "code",
        "colab": {}
      },
      "source": [
        "def TrainingAccuracy(sess):\n",
        "    sss = 0\n",
        "    ga = 0\n",
        "    total = 0\n",
        "    for i in range(int(X_train.shape[0]/batch_size)):\n",
        "        ga, batch_x, batch_y = get_batch_next(X_train, y_train, batch_size, ga)\n",
        "        trainacc = sess.run(accuracy, feed_dict={X: batch_x, Y: batch_y})\n",
        "        total += batch_size\n",
        "        sss = sss + trainacc\n",
        "    return (sss*100.0/total)"
      ],
      "execution_count": 11,
      "outputs": []
    },
    {
      "cell_type": "code",
      "metadata": {
        "id": "ykABudZqi031",
        "colab_type": "code",
        "colab": {}
      },
      "source": [
        "with tf.Session() as sess:\n",
        "    sess.run(init)\n",
        "    ga = 0\n",
        "    for step in range(1, num_steps+1):\n",
        "        ga, batch_x, batch_y = get_batch_next(X_train, y_train, batch_size, ga)\n",
        "        sess.run(train_op, feed_dict={X: batch_x, Y: batch_y})\n",
        "        # print(step, TrainingAccuracy(sess))\n",
        "        # if step % display_step == 0 or step == 1:\n",
        "        #     print(step, TrainingAccuracy(sess))\n",
        "    saver = tf.train.Saver() \n",
        "    saver.save(sess, './saved_sess.chkp')\n",
        "    # print(\"Step \" + str(step) + \", Minibatch Loss= \" + \\\n",
        "    #         \"{:.4f}\".format(loss) + \", Accuracy[Batch, Training, Testing] = [\" + \\\n",
        "    #         \"{:.3f}\".format(batchacc) + \", \"  + \\\n",
        "    #         \"{:.3f}\".format(trainacc) + \", \" + \\\n",
        "    #         \"{:.3f}\".format(testacc) + \"]\") "
      ],
      "execution_count": 37,
      "outputs": []
    },
    {
      "cell_type": "code",
      "metadata": {
        "id": "rzzdezO8i7BD",
        "colab_type": "code",
        "colab": {
          "base_uri": "https://localhost:8080/",
          "height": 69
        },
        "outputId": "fd07c87a-55ed-4c11-f059-2cf1749ff296"
      },
      "source": [
        "with tf.Session() as sess:\n",
        "    saver = tf.train.Saver()\n",
        "    saver.restore(sess, 'saved_sess.chkp')\n",
        "\n",
        "    \n",
        "    trainacc = sess.run(accuracy, feed_dict={X: batch_x, Y: batch_y})\n",
        "        \n",
        "    print(trainacc)\n",
        "    # for i in xrange(10):\n",
        "    #     ga, batch_x, batch_y = get_batch_next(X_train, y_train, batch_size, ga)\n",
        "    #     trainacc = sess.run(accuracy, feed_dict={X: X_train, Y: y_train})\n",
        "    #     testacc = sess.run(accuracy, feed_dict={X: X_test, Y: y_test})\n"
      ],
      "execution_count": 38,
      "outputs": [
        {
          "output_type": "stream",
          "text": [
            "INFO:tensorflow:Restoring parameters from saved_sess.chkp\n"
          ],
          "name": "stdout"
        },
        {
          "output_type": "stream",
          "text": [
            "INFO:tensorflow:Restoring parameters from saved_sess.chkp\n"
          ],
          "name": "stderr"
        },
        {
          "output_type": "stream",
          "text": [
            "0.02896825419295402\n"
          ],
          "name": "stdout"
        }
      ]
    },
    {
      "cell_type": "code",
      "metadata": {
        "id": "9tf4c-0EoFol",
        "colab_type": "code",
        "colab": {}
      },
      "source": [
        ""
      ],
      "execution_count": null,
      "outputs": []
    }
  ]
}